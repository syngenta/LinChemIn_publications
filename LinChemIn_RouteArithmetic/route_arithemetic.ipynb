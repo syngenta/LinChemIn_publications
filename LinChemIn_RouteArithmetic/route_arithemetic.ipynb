{
 "cells": [
  {
   "cell_type": "markdown",
   "metadata": {
    "collapsed": true,
    "pycharm": {
     "name": "#%% md\n"
    }
   },
   "source": [
    "The input file are read and the contained routes are transformed into monopartite, reactions only, SynGraph objects. To simplify the analysis, in this example we considered only 6 routes predicted by each CASP tool, randomly selected."
   ]
  },
  {
   "cell_type": "code",
   "execution_count": 10,
   "outputs": [
    {
     "name": "stdout",
     "output_type": "stream",
     "text": [
      "6 routes randomly selected among those predicted by ibm_retro\n",
      "6 routes randomly selected among those predicted by az_retro\n",
      "6 routes randomly selected among those predicted by mit_retro\n",
      "In total, there are 18 routes predicted\n"
     ]
    }
   ],
   "source": [
    "import json\n",
    "from linchemin.interfaces.facade import facade\n",
    "\n",
    "input_dict = {\n",
    "        'data/IBMRXN_routes.json': 'ibm_retro',\n",
    "        'data/AZ_routes.json': 'az_retro',\n",
    "        'data/ASCKOS_routes.json': 'mit_retro',\n",
    "    }\n",
    "all_routes = []\n",
    "for file, casp in input_dict.items():\n",
    "    graph = json.loads(open(file).read())[:6]\n",
    "    output, _ = facade('translate', input_format=casp, input_list=graph, out_data_model='monopartite_reactions')\n",
    "    print(f'{len(output)} routes randomly selected among those predicted by {casp}')\n",
    "    all_routes.extend(output)\n",
    "print(f'In total, there are {len(all_routes)} routes predicted')\n"
   ],
   "metadata": {
    "collapsed": false,
    "pycharm": {
     "name": "#%%\n"
    },
    "ExecuteTime": {
     "end_time": "2023-10-31T09:30:57.536094200Z",
     "start_time": "2023-10-31T09:30:54.642134100Z"
    }
   }
  },
  {
   "cell_type": "markdown",
   "source": [
    "Using the uid property of the SynGraph object, we can isolate the unique routes from the initial dataset"
   ],
   "metadata": {
    "collapsed": false,
    "pycharm": {
     "name": "#%% md\n"
    }
   }
  },
  {
   "cell_type": "code",
   "execution_count": 11,
   "outputs": [
    {
     "name": "stdout",
     "output_type": "stream",
     "text": [
      "number of unique routes in the initial dataset=  18\n"
     ]
    }
   ],
   "source": [
    "unique_initial_routes = []\n",
    "for route in all_routes:\n",
    "    if route not in unique_initial_routes:\n",
    "        unique_initial_routes.append(route)\n",
    "print('number of unique routes in the initial dataset= ', len(unique_initial_routes))\n"
   ],
   "metadata": {
    "collapsed": false,
    "pycharm": {
     "name": "#%%\n"
    },
    "ExecuteTime": {
     "end_time": "2023-10-31T09:31:00.925229700Z",
     "start_time": "2023-10-31T09:31:00.917227600Z"
    }
   }
  },
  {
   "cell_type": "markdown",
   "source": [
    "In order to correctly assess the number of unique routes based on the identity of only reactants and products, the reactions involved in each route are mapped using atom-to-atom mapping tools"
   ],
   "metadata": {
    "collapsed": false,
    "pycharm": {
     "name": "#%% md\n"
    }
   }
  },
  {
   "cell_type": "code",
   "execution_count": 12,
   "outputs": [],
   "source": [
    "from linchemin.cheminfo.atom_mapping import perform_atom_mapping\n",
    "from linchemin.cgu.syngraph_operations import extract_reactions_from_syngraph\n",
    "from linchemin.cgu.syngraph import MonopartiteReacSynGraph\n",
    "\n",
    "def atom_mapping(route_list: list, mapper=None) -> list:\n",
    "    \"\"\" Performs the atom mapping of a list of chemical equations smiles \"\"\"\n",
    "    mapped_routes: list = []\n",
    "    for route in route_list:\n",
    "        reaction_list = extract_reactions_from_syngraph(route)\n",
    "        out = perform_atom_mapping(reaction_list, mapper_name=mapper)\n",
    "        syngraph = MonopartiteReacSynGraph(out.mapped_reactions)\n",
    "        mapped_routes.append(syngraph)\n",
    "    return mapped_routes or None"
   ],
   "metadata": {
    "collapsed": false,
    "pycharm": {
     "name": "#%%\n"
    },
    "ExecuteTime": {
     "end_time": "2023-10-31T09:31:06.471470100Z",
     "start_time": "2023-10-31T09:31:06.465468600Z"
    }
   }
  },
  {
   "cell_type": "code",
   "execution_count": 13,
   "outputs": [
    {
     "name": "stdout",
     "output_type": "stream",
     "text": [
      "number of unique routes after mapping =  17\n"
     ]
    }
   ],
   "source": [
    "mapped_routes = atom_mapping(unique_initial_routes, mapper='rxnmapper')\n",
    "unique_routes = []\n",
    "for route in mapped_routes:\n",
    "    if route not in unique_routes:\n",
    "        unique_routes.append(route)\n",
    "        \n",
    "print('number of unique routes after mapping = ', len(unique_routes))"
   ],
   "metadata": {
    "collapsed": false,
    "pycharm": {
     "name": "#%%\n"
    },
    "ExecuteTime": {
     "end_time": "2023-10-31T09:33:14.176234300Z",
     "start_time": "2023-10-31T09:31:08.789079400Z"
    }
   }
  },
  {
   "cell_type": "markdown",
   "source": [
    "Additional spurious routes can be removed by identifying subsets"
   ],
   "metadata": {
    "collapsed": false,
    "pycharm": {
     "name": "#%% md\n"
    }
   }
  },
  {
   "cell_type": "code",
   "execution_count": 14,
   "outputs": [
    {
     "name": "stdout",
     "output_type": "stream",
     "text": [
      "number of unique routes after removing subsets =  16\n"
     ]
    }
   ],
   "source": [
    "subsets = facade(\"subsets\", unique_routes)\n",
    "for item in subsets:\n",
    "    route_to_remove = next((r for r in unique_routes if r.uid == item[0]), None)\n",
    "    if route_to_remove and route_to_remove in unique_routes:\n",
    "        unique_routes.remove(route_to_remove)\n",
    "print('number of unique routes after removing subsets = ', len(unique_routes))"
   ],
   "metadata": {
    "collapsed": false,
    "pycharm": {
     "name": "#%%\n"
    },
    "ExecuteTime": {
     "end_time": "2023-10-31T09:34:20.428917500Z",
     "start_time": "2023-10-31T09:34:20.411919300Z"
    }
   }
  },
  {
   "cell_type": "markdown",
   "source": [
    "Single route manipulation: node removal and addition"
   ],
   "metadata": {
    "collapsed": false,
    "pycharm": {
     "name": "#%% md\n"
    }
   }
  },
  {
   "cell_type": "code",
   "execution_count": 15,
   "outputs": [],
   "source": [
    "from linchemin.cgu.syngraph_operations import remove_reaction_from_syngraph, add_reaction_to_syngraph\n",
    "\n",
    "route = unique_routes[11]\n",
    "\n",
    "node_to_remove = (f'[CH3:17][C:16]([CH3:18])([CH3:19])[O:14][C:13](=[O:15])[NH:12][C:3]1=[CH:2][CH:1]=[C:6]'\n",
    "                  f'([CH:5]=[CH:4]1)[C:9]1=[N:10][O:11][CH:7]=[N:8]1'\n",
    "                  f'>>[NH2:12][C:3]1=[CH:2][CH:1]=[C:6]([CH:5]=[CH:4]1)[C:9]1=[N:10][O:11][CH:7]=[N:8]1')\n",
    "new_route_removal = remove_reaction_from_syngraph(syngraph=route, reaction_to_remove=node_to_remove, remove_dandling_nodes=True)\n",
    "\n",
    "\n",
    "node_to_add = (f'CC[O:3][C:2](=[O:1])[CH:4]1[CH2:5][CH2:6][S:7]'\n",
    "               f'(=[O:8])(=[O:9])[CH2:10][CH2:11]1'\n",
    "               f'>>[O:1]=[C:2]([OH:3])[CH:4]1[CH2:5][CH2:6][S:7](=[O:8])(=[O:9])[CH2:10][CH2:11]1')\n",
    "new_route_addition = add_reaction_to_syngraph(syngraph=route, reaction_to_add=node_to_add)\n"
   ],
   "metadata": {
    "collapsed": false,
    "pycharm": {
     "name": "#%%\n"
    },
    "ExecuteTime": {
     "end_time": "2023-10-31T09:34:25.174304100Z",
     "start_time": "2023-10-31T09:34:25.046209100Z"
    }
   }
  },
  {
   "cell_type": "markdown",
   "source": [
    "Now we can proceed with the route mining. The function to mine routes already return only unique routes."
   ],
   "metadata": {
    "collapsed": false,
    "pycharm": {
     "name": "#%% md\n"
    }
   }
  },
  {
   "cell_type": "code",
   "execution_count": 16,
   "outputs": [
    {
     "name": "stdout",
     "output_type": "stream",
     "text": [
      "150 unique routes were mined\n"
     ]
    }
   ],
   "source": [
    "from linchemin.cgu.route_mining import mine_routes\n",
    "\n",
    "root = 'Cc1cccc(C)c1N(CC(=O)Nc1ccc(-c2ncon2)cc1)C(=O)C1CCS(=O)(=O)CC1'\n",
    "mined_routes = mine_routes(unique_routes, root)\n",
    "print(f'{len(mined_routes)} unique routes were mined')\n"
   ],
   "metadata": {
    "collapsed": false,
    "pycharm": {
     "name": "#%%\n"
    },
    "ExecuteTime": {
     "end_time": "2023-10-31T09:34:46.149566800Z",
     "start_time": "2023-10-31T09:34:30.138152900Z"
    }
   }
  },
  {
   "cell_type": "markdown",
   "source": [
    "We can check the routes' descriptors to assess the complexity of the predicted vs mined routes."
   ],
   "metadata": {
    "collapsed": false
   }
  },
  {
   "cell_type": "code",
   "execution_count": 17,
   "outputs": [
    {
     "data": {
      "text/plain": "<Figure size 1400x700 with 2 Axes>",
      "image/png": "[encoded data removed]"
     },
     "metadata": {},
     "output_type": "display_data"
    }
   ],
   "source": [
    "import matplotlib.pyplot as plt\n",
    "from linchemin.rem.route_descriptors import descriptor_calculator\n",
    "\n",
    "original_lengths = sorted([len(r.graph) for r in unique_routes])\n",
    "original_branches = sorted([descriptor_calculator(r, 'nr_branches') for r in unique_routes])\n",
    "mined_lengths = sorted([len(r.graph) for r in mined_routes])\n",
    "mined_branches = sorted([descriptor_calculator(r, 'nr_branches') for r in mined_routes])\n",
    "\n",
    "fig, ((ax1, ax2)) = plt.subplots(nrows=1, ncols=2, figsize=(14,7))\n",
    "labels = ['Original routes', 'Mined routes']\n",
    "\n",
    "ax1.hist([original_lengths, mined_lengths], histtype='bar', density=True, color=['red', 'blue'], label=labels)\n",
    "ax1.set_ylabel('Frequency', fontsize=18)\n",
    "ax1.set_xlabel('Nr of Steps', fontsize=18)\n",
    "ax1.tick_params(axis='x', labelsize=16)\n",
    "ax1.tick_params(axis='y', labelsize=16)\n",
    "ax1.legend(labels, fontsize=18)\n",
    "ax2.hist([original_branches, mined_branches], histtype='bar', density=True, color=['red', 'blue'], label=labels)\n",
    "ax2.set_ylabel('Frequency', fontsize=18)\n",
    "ax2.set_xlabel('Nr of Branches', fontsize=18)\n",
    "ax2.tick_params(axis='x', labelsize=16)\n",
    "ax2.tick_params(axis='y', labelsize=16)\n",
    "ax2.legend(labels, fontsize=18)\n",
    "# Show plot\n",
    "fig.tight_layout()\n",
    "plt.show()\n"
   ],
   "metadata": {
    "collapsed": false,
    "pycharm": {
     "name": "#%%\n"
    },
    "ExecuteTime": {
     "end_time": "2023-10-31T09:34:52.033720600Z",
     "start_time": "2023-10-31T09:34:51.399100800Z"
    }
   }
  },
  {
   "cell_type": "code",
   "execution_count": 18,
   "outputs": [
    {
     "name": "stdout",
     "output_type": "stream",
     "text": [
      "145 routes were extracted that were not present in the original (cleaned) dataset\n"
     ]
    }
   ],
   "source": [
    "only_mined_routes = [route for route in mined_routes if route not in unique_routes]\n",
    "print(f'{len(only_mined_routes)} routes were extracted that were not present in the original (cleaned) dataset')"
   ],
   "metadata": {
    "collapsed": false,
    "pycharm": {
     "name": "#%%\n"
    },
    "ExecuteTime": {
     "end_time": "2023-10-31T09:34:54.419137800Z",
     "start_time": "2023-10-31T09:34:54.389139600Z"
    }
   }
  },
  {
   "cell_type": "code",
   "execution_count": null,
   "outputs": [],
   "source": [],
   "metadata": {
    "collapsed": false
   }
  }
 ],
 "metadata": {
  "kernelspec": {
   "display_name": "Python 3",
   "language": "python",
   "name": "python3"
  },
  "language_info": {
   "codemirror_mode": {
    "name": "ipython",
    "version": 2
   },
   "file_extension": ".py",
   "mimetype": "text/x-python",
   "name": "python",
   "nbconvert_exporter": "python",
   "pygments_lexer": "ipython2",
   "version": "2.7.6"
  }
 },
 "nbformat": 4,
 "nbformat_minor": 0
}
